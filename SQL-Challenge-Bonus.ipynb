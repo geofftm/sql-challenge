{
 "cells": [
  {
   "cell_type": "code",
   "execution_count": 117,
   "metadata": {},
   "outputs": [],
   "source": [
    "# Import SQLAlchemy `automap` and other dependencies here\n",
    "import sqlalchemy\n",
    "from sqlalchemy.ext.automap import automap_base\n",
    "from sqlalchemy.orm import Session\n",
    "from sqlalchemy import create_engine, inspect\n",
    "\n",
    "#dummy create_engine to hide my login credentials\n",
    "engine = create_engine('postgresql://localhost:5432/<your_db_name>')\n",
    "\n",
    "\n",
    "\n",
    "connection = engine.connect()"
   ]
  },
  {
   "cell_type": "code",
   "execution_count": 118,
   "metadata": {},
   "outputs": [],
   "source": [
    "# Import Matplot lib\n",
    "import matplotlib\n",
    "from matplotlib import style\n",
    "style.use('seaborn')\n",
    "import matplotlib.pyplot as plt\n"
   ]
  },
  {
   "cell_type": "code",
   "execution_count": 119,
   "metadata": {},
   "outputs": [],
   "source": [
    "import pandas as pd"
   ]
  },
  {
   "cell_type": "code",
   "execution_count": 120,
   "metadata": {},
   "outputs": [
    {
     "data": {
      "text/plain": [
       "['titles', 'employees', 'departments', 'dept_emp', 'dept_manager', 'salaries']"
      ]
     },
     "execution_count": 120,
     "metadata": {},
     "output_type": "execute_result"
    }
   ],
   "source": [
    "inspector = inspect(engine)\n",
    "inspector.get_table_names()"
   ]
  },
  {
   "cell_type": "code",
   "execution_count": 121,
   "metadata": {},
   "outputs": [],
   "source": [
    "salary = engine.execute('select * from salaries').fetchall()"
   ]
  },
  {
   "cell_type": "code",
   "execution_count": 122,
   "metadata": {},
   "outputs": [],
   "source": [
    "salaries = []\n",
    "employee_id = []\n",
    "for i in salary:\n",
    "    employee_id.append(i[0])\n",
    "    salaries.append(i[1])\n",
    "    \n",
    "    "
   ]
  },
  {
   "cell_type": "code",
   "execution_count": 123,
   "metadata": {},
   "outputs": [],
   "source": [
    "#salaries_df = pd.DataFrame({\"Employee ID\": employee_id, \"Salary\": salaries})\n",
    "salaries_df = pd.DataFrame({\"Salary\": salaries})\n"
   ]
  },
  {
   "cell_type": "code",
   "execution_count": 124,
   "metadata": {},
   "outputs": [],
   "source": [
    "salary_max = salaries_df.max()"
   ]
  },
  {
   "cell_type": "code",
   "execution_count": 125,
   "metadata": {},
   "outputs": [],
   "source": [
    "salary_min = salaries_df.min()"
   ]
  },
  {
   "cell_type": "code",
   "execution_count": 126,
   "metadata": {},
   "outputs": [],
   "source": [
    "salary_mean = salaries_df.mean()"
   ]
  },
  {
   "cell_type": "code",
   "execution_count": 127,
   "metadata": {},
   "outputs": [],
   "source": [
    "salary_mode = salaries_df.mode()"
   ]
  },
  {
   "cell_type": "code",
   "execution_count": 128,
   "metadata": {},
   "outputs": [],
   "source": [
    "salary_title = engine.execute('select salary, title from employees inner join salaries on \\\n",
    "salaries.emp_no = employees.emp_no inner join titles \\\n",
    "on employees.emp_title_id = titles.title_id order by salary').fetchall()\n",
    "\n",
    "#salary_title"
   ]
  },
  {
   "cell_type": "code",
   "execution_count": 129,
   "metadata": {},
   "outputs": [],
   "source": [
    "salary = []\n",
    "title = []\n",
    "for i in salary_title:\n",
    "    salary.append(i[0])\n",
    "    title.append(i[1])"
   ]
  },
  {
   "cell_type": "code",
   "execution_count": 130,
   "metadata": {},
   "outputs": [],
   "source": [
    "salary_df = pd.DataFrame(salary_title)"
   ]
  },
  {
   "cell_type": "code",
   "execution_count": 131,
   "metadata": {},
   "outputs": [],
   "source": [
    "salary_df = salary_df.rename(columns={0: \"Salary\", 1: \"Title\"})\n"
   ]
  },
  {
   "cell_type": "code",
   "execution_count": 132,
   "metadata": {},
   "outputs": [
    {
     "data": {
      "text/plain": [
       "Title\n",
       "Assistant Engineer    48564.434447\n",
       "Engineer              48535.336511\n",
       "Manager               51531.041667\n",
       "Senior Engineer       48506.799871\n",
       "Senior Staff          58550.172704\n",
       "Staff                 58465.382850\n",
       "Technique Leader      48582.896092\n",
       "Name: Salary, dtype: float64"
      ]
     },
     "execution_count": 132,
     "metadata": {},
     "output_type": "execute_result"
    }
   ],
   "source": [
    "salary_by_title = salary_df.groupby(\"Title\")[\"Salary\"].mean()\n",
    "salary_by_title"
   ]
  },
  {
   "cell_type": "code",
   "execution_count": 133,
   "metadata": {},
   "outputs": [
    {
     "data": {
      "text/plain": [
       "(array([0, 1, 2, 3, 4, 5, 6]),\n",
       " [Text(0, 0, 'Assistant Engineer'),\n",
       "  Text(1, 0, 'Engineer'),\n",
       "  Text(2, 0, 'Manager'),\n",
       "  Text(3, 0, 'Senior Engineer'),\n",
       "  Text(4, 0, 'Senior Staff'),\n",
       "  Text(5, 0, 'Staff'),\n",
       "  Text(6, 0, 'Technique Leader')])"
      ]
     },
     "execution_count": 133,
     "metadata": {},
     "output_type": "execute_result"
    },
    {
     "data": {
      "image/png": "[encoded data removed]",
      "text/plain": [
       "<Figure size 576x396 with 1 Axes>"
      ]
     },
     "metadata": {},
     "output_type": "display_data"
    }
   ],
   "source": [
    "salary_by_title.plot.bar()\n",
    "plt.title(\"Average Salary by Title\")\n",
    "plt.ylabel(\"Average Salary\")\n",
    "plt.xticks(rotation=45)"
   ]
  },
  {
   "cell_type": "code",
   "execution_count": 134,
   "metadata": {},
   "outputs": [],
   "source": [
    "# salary_by_title = salary_by_title\n",
    "\n",
    "# plt.bar([\"Assistant Engineer\", \"Engineer\", \"Manager\", \"Senior Engineer\", \"Senior Staff\", \"Staff\", \"Technique Leader\"], salary_by_title)\n",
    "# plt.xticks(rotation=45)\n",
    "# plt.title(\"Average Salary by Title\")\n",
    "# plt.xlabel(\"Title\")\n",
    "# plt.ylabel(\"Salary\")"
   ]
  },
  {
   "cell_type": "code",
   "execution_count": 135,
   "metadata": {},
   "outputs": [
    {
     "data": {
      "text/plain": [
       "Title\n",
       "Assistant Engineer    40000\n",
       "Engineer              40000\n",
       "Manager               40000\n",
       "Senior Engineer       40000\n",
       "Senior Staff          40000\n",
       "Staff                 40000\n",
       "Technique Leader      40000\n",
       "Name: Salary, dtype: int64"
      ]
     },
     "execution_count": 135,
     "metadata": {},
     "output_type": "execute_result"
    }
   ],
   "source": [
    "salary_by_title_min = salary_df.groupby(\"Title\")[\"Salary\"].min()\n",
    "salary_by_title_min"
   ]
  },
  {
   "cell_type": "code",
   "execution_count": 136,
   "metadata": {},
   "outputs": [
    {
     "data": {
      "text/plain": [
       "Title\n",
       "Assistant Engineer     99683\n",
       "Engineer              100683\n",
       "Manager                72446\n",
       "Senior Engineer       110449\n",
       "Senior Staff          127238\n",
       "Staff                 129492\n",
       "Technique Leader      104065\n",
       "Name: Salary, dtype: int64"
      ]
     },
     "execution_count": 136,
     "metadata": {},
     "output_type": "execute_result"
    }
   ],
   "source": [
    "salary_by_title_max = salary_by_title = salary_df.groupby(\"Title\")[\"Salary\"].max()\n",
    "salary_by_title_max"
   ]
  },
  {
   "cell_type": "code",
   "execution_count": 137,
   "metadata": {},
   "outputs": [],
   "source": [
    "salaries_common_df = pd.DataFrame({\"Minimum Salary\": salary_by_title_min,\n",
    "                                  \"Maximum Salary\": salary_by_title_max})\n",
    "\n"
   ]
  },
  {
   "cell_type": "code",
   "execution_count": null,
   "metadata": {},
   "outputs": [],
   "source": []
  },
  {
   "cell_type": "code",
   "execution_count": null,
   "metadata": {},
   "outputs": [],
   "source": []
  },
  {
   "cell_type": "code",
   "execution_count": null,
   "metadata": {},
   "outputs": [],
   "source": []
  }
 ],
 "metadata": {
  "kernelspec": {
   "display_name": "Python 3",
   "language": "python",
   "name": "python3"
  },
  "language_info": {
   "codemirror_mode": {
    "name": "ipython",
    "version": 3
   },
   "file_extension": ".py",
   "mimetype": "text/x-python",
   "name": "python",
   "nbconvert_exporter": "python",
   "pygments_lexer": "ipython3",
   "version": "3.8.5"
  }
 },
 "nbformat": 4,
 "nbformat_minor": 4
}
